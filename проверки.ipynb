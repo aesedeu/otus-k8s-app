{
 "cells": [
  {
   "cell_type": "markdown",
   "metadata": {},
   "source": [
    "Для запуска сервера также можно воспользоваться CLI-командой\n",
    "```sh\n",
    "uvicorn app:app --host 0.0.0.0 --port 8000\n",
    "```"
   ]
  },
  {
   "cell_type": "code",
   "execution_count": 2,
   "metadata": {},
   "outputs": [
    {
     "name": "stdout",
     "output_type": "stream",
     "text": [
      "{'timestamp': 1726730670.116505, 'model_name': 'DecisionTreeeClassifier', 'model_response': 'Вы вне группы сердечного риска'}\n"
     ]
    }
   ],
   "source": [
    "import requests\n",
    "\n",
    "r = requests.post(\n",
    "    url=\"http://localhost:8000/rec\",\n",
    "    json={\n",
    "        \"Age\": 25,\n",
    "        \"Sex\": 1,\n",
    "        \"BloodPressure\": 120,\n",
    "        \"MaxHeartRate\": 160\n",
    "    }\n",
    ")\n",
    "print(r.json())"
   ]
  },
  {
   "cell_type": "code",
   "execution_count": 3,
   "metadata": {},
   "outputs": [
    {
     "data": {
      "text/plain": [
       "'Вы вне группы сердечного риска'"
      ]
     },
     "execution_count": 3,
     "metadata": {},
     "output_type": "execute_result"
    }
   ],
   "source": [
    "r.json()[\"model_response\"]"
   ]
  }
 ],
 "metadata": {
  "kernelspec": {
   "display_name": "Python 3",
   "language": "python",
   "name": "python3"
  },
  "language_info": {
   "codemirror_mode": {
    "name": "ipython",
    "version": 3
   },
   "file_extension": ".py",
   "mimetype": "text/x-python",
   "name": "python",
   "nbconvert_exporter": "python",
   "pygments_lexer": "ipython3",
   "version": "3.11.10"
  }
 },
 "nbformat": 4,
 "nbformat_minor": 2
}
